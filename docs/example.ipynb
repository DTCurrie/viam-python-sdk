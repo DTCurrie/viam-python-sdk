{
    "cells": [
        {
            "cell_type": "markdown",
            "metadata": {},
            "source": [
                "# Example usage\n",
                "\n",
                "The Viam SDK can be used in two ways:\n",
                "1. As a client to connect to a (remote or local) robot\n",
                "2. To create custom components and provide additional functionality to a robot\n",
                "\n",
                "## Connect as a client\n",
                "\n",
                "To connect to a robot as a client, you should instantiate an instance of a `RobotClient`"
            ]
        },
        {
            "cell_type": "code",
            "execution_count": 1,
            "metadata": {},
            "outputs": [],
            "source": [
                "# Please excuse the boilerplate\n",
                "%autoawait asyncio\n",
                "import warnings\n",
                "warnings.filterwarnings('ignore')"
            ]
        },
        {
            "cell_type": "code",
            "execution_count": 2,
            "metadata": {},
            "outputs": [
                {
                    "ename": "StreamTerminatedError",
                    "evalue": "Connection lost",
                    "output_type": "error",
                    "traceback": [
                        "\u001b[0;31m---------------------------------------------------------------------------\u001b[0m",
                        "\u001b[0;31mCancelledError\u001b[0m                            Traceback (most recent call last)",
                        "File \u001b[0;32m/opt/homebrew/Caskroom/miniconda/base/envs/pysdk/lib/python3.10/site-packages/grpclib/client.py:368\u001b[0m, in \u001b[0;36mStream.recv_initial_metadata\u001b[0;34m(self)\u001b[0m\n\u001b[1;32m    367\u001b[0m \u001b[39mwith\u001b[39;00m \u001b[39mself\u001b[39m\u001b[39m.\u001b[39m_wrapper:\n\u001b[0;32m--> 368\u001b[0m     headers \u001b[39m=\u001b[39m \u001b[39mawait\u001b[39;00m \u001b[39mself\u001b[39m\u001b[39m.\u001b[39m_stream\u001b[39m.\u001b[39mrecv_headers()\n\u001b[1;32m    369\u001b[0m     \u001b[39mself\u001b[39m\u001b[39m.\u001b[39m_recv_initial_metadata_done \u001b[39m=\u001b[39m \u001b[39mTrue\u001b[39;00m\n",
                        "File \u001b[0;32m/opt/homebrew/Caskroom/miniconda/base/envs/pysdk/lib/python3.10/site-packages/grpclib/protocol.py:342\u001b[0m, in \u001b[0;36mStream.recv_headers\u001b[0;34m(self)\u001b[0m\n\u001b[1;32m    341\u001b[0m \u001b[39mif\u001b[39;00m \u001b[39mself\u001b[39m\u001b[39m.\u001b[39mheaders \u001b[39mis\u001b[39;00m \u001b[39mNone\u001b[39;00m:\n\u001b[0;32m--> 342\u001b[0m     \u001b[39mawait\u001b[39;00m \u001b[39mself\u001b[39m\u001b[39m.\u001b[39mheaders_received\u001b[39m.\u001b[39mwait()\n\u001b[1;32m    343\u001b[0m \u001b[39massert\u001b[39;00m \u001b[39mself\u001b[39m\u001b[39m.\u001b[39mheaders \u001b[39mis\u001b[39;00m \u001b[39mnot\u001b[39;00m \u001b[39mNone\u001b[39;00m\n",
                        "File \u001b[0;32m/opt/homebrew/Caskroom/miniconda/base/envs/pysdk/lib/python3.10/asyncio/locks.py:214\u001b[0m, in \u001b[0;36mEvent.wait\u001b[0;34m(self)\u001b[0m\n\u001b[1;32m    213\u001b[0m \u001b[39mtry\u001b[39;00m:\n\u001b[0;32m--> 214\u001b[0m     \u001b[39mawait\u001b[39;00m fut\n\u001b[1;32m    215\u001b[0m     \u001b[39mreturn\u001b[39;00m \u001b[39mTrue\u001b[39;00m\n",
                        "\u001b[0;31mCancelledError\u001b[0m: ",
                        "\nDuring handling of the above exception, another exception occurred:\n",
                        "\u001b[0;31mStreamTerminatedError\u001b[0m                     Traceback (most recent call last)",
                        "\u001b[1;32m/Users/njooma/Developer/python-sdk/docs/example.ipynb Cell 3\u001b[0m in \u001b[0;36m<cell line: 12>\u001b[0;34m()\u001b[0m\n\u001b[1;32m      <a href='vscode-notebook-cell:/Users/njooma/Developer/python-sdk/docs/example.ipynb#W2sZmlsZQ%3D%3D?line=5'>6</a>\u001b[0m     options \u001b[39m=\u001b[39m RobotClient\u001b[39m.\u001b[39mOptions(\n\u001b[1;32m      <a href='vscode-notebook-cell:/Users/njooma/Developer/python-sdk/docs/example.ipynb#W2sZmlsZQ%3D%3D?line=6'>7</a>\u001b[0m         dial_options\u001b[39m=\u001b[39mDialOptions(insecure\u001b[39m=\u001b[39m\u001b[39mTrue\u001b[39;00m),\n\u001b[1;32m      <a href='vscode-notebook-cell:/Users/njooma/Developer/python-sdk/docs/example.ipynb#W2sZmlsZQ%3D%3D?line=7'>8</a>\u001b[0m         log_level\u001b[39m=\u001b[39mlogging\u001b[39m.\u001b[39mFATAL\n\u001b[1;32m      <a href='vscode-notebook-cell:/Users/njooma/Developer/python-sdk/docs/example.ipynb#W2sZmlsZQ%3D%3D?line=8'>9</a>\u001b[0m     )\n\u001b[1;32m     <a href='vscode-notebook-cell:/Users/njooma/Developer/python-sdk/docs/example.ipynb#W2sZmlsZQ%3D%3D?line=9'>10</a>\u001b[0m     \u001b[39mreturn\u001b[39;00m \u001b[39mawait\u001b[39;00m RobotClient\u001b[39m.\u001b[39mat_address(\u001b[39m'\u001b[39m\u001b[39m0.0.0.0:5000\u001b[39m\u001b[39m'\u001b[39m, options)\n\u001b[0;32m---> <a href='vscode-notebook-cell:/Users/njooma/Developer/python-sdk/docs/example.ipynb#W2sZmlsZQ%3D%3D?line=11'>12</a>\u001b[0m robot \u001b[39m=\u001b[39m \u001b[39mawait\u001b[39;00m connect()\n\u001b[1;32m     <a href='vscode-notebook-cell:/Users/njooma/Developer/python-sdk/docs/example.ipynb#W2sZmlsZQ%3D%3D?line=12'>13</a>\u001b[0m robot\u001b[39m.\u001b[39mresource_names\n",
                        "\u001b[1;32m/Users/njooma/Developer/python-sdk/docs/example.ipynb Cell 3\u001b[0m in \u001b[0;36mconnect\u001b[0;34m()\u001b[0m\n\u001b[1;32m      <a href='vscode-notebook-cell:/Users/njooma/Developer/python-sdk/docs/example.ipynb#W2sZmlsZQ%3D%3D?line=4'>5</a>\u001b[0m \u001b[39masync\u001b[39;00m \u001b[39mdef\u001b[39;00m \u001b[39mconnect\u001b[39m() \u001b[39m-\u001b[39m\u001b[39m>\u001b[39m RobotClient:\n\u001b[1;32m      <a href='vscode-notebook-cell:/Users/njooma/Developer/python-sdk/docs/example.ipynb#W2sZmlsZQ%3D%3D?line=5'>6</a>\u001b[0m     options \u001b[39m=\u001b[39m RobotClient\u001b[39m.\u001b[39mOptions(\n\u001b[1;32m      <a href='vscode-notebook-cell:/Users/njooma/Developer/python-sdk/docs/example.ipynb#W2sZmlsZQ%3D%3D?line=6'>7</a>\u001b[0m         dial_options\u001b[39m=\u001b[39mDialOptions(insecure\u001b[39m=\u001b[39m\u001b[39mTrue\u001b[39;00m),\n\u001b[1;32m      <a href='vscode-notebook-cell:/Users/njooma/Developer/python-sdk/docs/example.ipynb#W2sZmlsZQ%3D%3D?line=7'>8</a>\u001b[0m         log_level\u001b[39m=\u001b[39mlogging\u001b[39m.\u001b[39mFATAL\n\u001b[1;32m      <a href='vscode-notebook-cell:/Users/njooma/Developer/python-sdk/docs/example.ipynb#W2sZmlsZQ%3D%3D?line=8'>9</a>\u001b[0m     )\n\u001b[0;32m---> <a href='vscode-notebook-cell:/Users/njooma/Developer/python-sdk/docs/example.ipynb#W2sZmlsZQ%3D%3D?line=9'>10</a>\u001b[0m     \u001b[39mreturn\u001b[39;00m \u001b[39mawait\u001b[39;00m RobotClient\u001b[39m.\u001b[39mat_address(\u001b[39m'\u001b[39m\u001b[39m0.0.0.0:5000\u001b[39m\u001b[39m'\u001b[39m, options)\n",
                        "File \u001b[0;32m~/Developer/python-sdk/src/viam/robot/client.py:90\u001b[0m, in \u001b[0;36mRobotClient.at_address\u001b[0;34m(cls, address, options)\u001b[0m\n\u001b[1;32m     80\u001b[0m \u001b[39m\"\"\"Create a robot client that is connected to the robot at the provided address.\u001b[39;00m\n\u001b[1;32m     81\u001b[0m \n\u001b[1;32m     82\u001b[0m \u001b[39mArgs:\u001b[39;00m\n\u001b[0;32m   (...)\u001b[0m\n\u001b[1;32m     87\u001b[0m \u001b[39m    Self: the RobotClient\u001b[39;00m\n\u001b[1;32m     88\u001b[0m \u001b[39m\"\"\"\u001b[39;00m\n\u001b[1;32m     89\u001b[0m channel \u001b[39m=\u001b[39m \u001b[39mawait\u001b[39;00m dial_direct(address, options\u001b[39m.\u001b[39mdial_options)\n\u001b[0;32m---> 90\u001b[0m robot \u001b[39m=\u001b[39m \u001b[39mawait\u001b[39;00m RobotClient\u001b[39m.\u001b[39mwith_channel(channel, options)\n\u001b[1;32m     91\u001b[0m robot\u001b[39m.\u001b[39m_should_close_channel \u001b[39m=\u001b[39m \u001b[39mTrue\u001b[39;00m\n\u001b[1;32m     92\u001b[0m \u001b[39mreturn\u001b[39;00m robot\n",
                        "File \u001b[0;32m~/Developer/python-sdk/src/viam/robot/client.py:116\u001b[0m, in \u001b[0;36mRobotClient.with_channel\u001b[0;34m(cls, channel, options)\u001b[0m\n\u001b[1;32m    114\u001b[0m \u001b[39mself\u001b[39m\u001b[39m.\u001b[39m_resource_names \u001b[39m=\u001b[39m []\n\u001b[1;32m    115\u001b[0m \u001b[39mself\u001b[39m\u001b[39m.\u001b[39m_should_close_channel \u001b[39m=\u001b[39m \u001b[39mFalse\u001b[39;00m\n\u001b[0;32m--> 116\u001b[0m \u001b[39mawait\u001b[39;00m \u001b[39mself\u001b[39m\u001b[39m.\u001b[39mrefresh()\n\u001b[1;32m    118\u001b[0m \u001b[39mif\u001b[39;00m options\u001b[39m.\u001b[39mrefresh_interval \u001b[39m>\u001b[39m \u001b[39m0\u001b[39m:\n\u001b[1;32m    119\u001b[0m     \u001b[39mself\u001b[39m\u001b[39m.\u001b[39m_refresh_task \u001b[39m=\u001b[39m asyncio\u001b[39m.\u001b[39mcreate_task(\n\u001b[1;32m    120\u001b[0m         \u001b[39mself\u001b[39m\u001b[39m.\u001b[39m_refresh_every(options\u001b[39m.\u001b[39mrefresh_interval), name\u001b[39m=\u001b[39m\u001b[39mf\u001b[39m\u001b[39m\"\u001b[39m\u001b[39m{\u001b[39;00mviam\u001b[39m.\u001b[39m_TASK_PREFIX\u001b[39m}\u001b[39;00m\u001b[39m-robot_refresh_metadata\u001b[39m\u001b[39m\"\u001b[39m\n\u001b[1;32m    121\u001b[0m     )\n",
                        "File \u001b[0;32m~/Developer/python-sdk/src/viam/robot/client.py:137\u001b[0m, in \u001b[0;36mRobotClient.refresh\u001b[0;34m(self)\u001b[0m\n\u001b[1;32m    133\u001b[0m \u001b[39masync\u001b[39;00m \u001b[39mdef\u001b[39;00m \u001b[39mrefresh\u001b[39m(\u001b[39mself\u001b[39m):\n\u001b[1;32m    134\u001b[0m     \u001b[39m\"\"\"\u001b[39;00m\n\u001b[1;32m    135\u001b[0m \u001b[39m    Manually refresh the underlying parts of this robot\u001b[39;00m\n\u001b[1;32m    136\u001b[0m \u001b[39m    \"\"\"\u001b[39;00m\n\u001b[0;32m--> 137\u001b[0m     response: ResourceNamesResponse \u001b[39m=\u001b[39m \u001b[39mawait\u001b[39;00m \u001b[39mself\u001b[39m\u001b[39m.\u001b[39m_client\u001b[39m.\u001b[39mResourceNames(ResourceNamesRequest())\n\u001b[1;32m    138\u001b[0m     resource_names: List[ResourceName] \u001b[39m=\u001b[39m \u001b[39mlist\u001b[39m(response\u001b[39m.\u001b[39mresources)\n\u001b[1;32m    139\u001b[0m     \u001b[39mif\u001b[39;00m resource_names \u001b[39m==\u001b[39m \u001b[39mself\u001b[39m\u001b[39m.\u001b[39m_resource_names:\n",
                        "File \u001b[0;32m/opt/homebrew/Caskroom/miniconda/base/envs/pysdk/lib/python3.10/site-packages/grpclib/client.py:883\u001b[0m, in \u001b[0;36mUnaryUnaryMethod.__call__\u001b[0;34m(self, message, timeout, metadata)\u001b[0m\n\u001b[1;32m    881\u001b[0m \u001b[39masync\u001b[39;00m \u001b[39mwith\u001b[39;00m \u001b[39mself\u001b[39m\u001b[39m.\u001b[39mopen(timeout\u001b[39m=\u001b[39mtimeout, metadata\u001b[39m=\u001b[39mmetadata) \u001b[39mas\u001b[39;00m stream:\n\u001b[1;32m    882\u001b[0m     \u001b[39mawait\u001b[39;00m stream\u001b[39m.\u001b[39msend_message(message, end\u001b[39m=\u001b[39m\u001b[39mTrue\u001b[39;00m)\n\u001b[0;32m--> 883\u001b[0m     reply \u001b[39m=\u001b[39m \u001b[39mawait\u001b[39;00m stream\u001b[39m.\u001b[39mrecv_message()\n\u001b[1;32m    884\u001b[0m \u001b[39massert\u001b[39;00m reply \u001b[39mis\u001b[39;00m \u001b[39mnot\u001b[39;00m \u001b[39mNone\u001b[39;00m\n\u001b[1;32m    885\u001b[0m \u001b[39mreturn\u001b[39;00m reply\n",
                        "File \u001b[0;32m/opt/homebrew/Caskroom/miniconda/base/envs/pysdk/lib/python3.10/site-packages/grpclib/client.py:425\u001b[0m, in \u001b[0;36mStream.recv_message\u001b[0;34m(self)\u001b[0m\n\u001b[1;32m    400\u001b[0m \u001b[39m\"\"\"Coroutine to receive incoming message from the server.\u001b[39;00m\n\u001b[1;32m    401\u001b[0m \n\u001b[1;32m    402\u001b[0m \u001b[39mIf server sends UNARY response, then you can call this coroutine only\u001b[39;00m\n\u001b[0;32m   (...)\u001b[0m\n\u001b[1;32m    422\u001b[0m \u001b[39m:returns: message\u001b[39;00m\n\u001b[1;32m    423\u001b[0m \u001b[39m\"\"\"\u001b[39;00m\n\u001b[1;32m    424\u001b[0m \u001b[39mif\u001b[39;00m \u001b[39mnot\u001b[39;00m \u001b[39mself\u001b[39m\u001b[39m.\u001b[39m_recv_initial_metadata_done:\n\u001b[0;32m--> 425\u001b[0m     \u001b[39mawait\u001b[39;00m \u001b[39mself\u001b[39m\u001b[39m.\u001b[39mrecv_initial_metadata()\n\u001b[1;32m    427\u001b[0m \u001b[39mwith\u001b[39;00m \u001b[39mself\u001b[39m\u001b[39m.\u001b[39m_wrapper:\n\u001b[1;32m    428\u001b[0m     message \u001b[39m=\u001b[39m \u001b[39mawait\u001b[39;00m recv_message(\u001b[39mself\u001b[39m\u001b[39m.\u001b[39m_stream, \u001b[39mself\u001b[39m\u001b[39m.\u001b[39m_codec,\n\u001b[1;32m    429\u001b[0m                                  \u001b[39mself\u001b[39m\u001b[39m.\u001b[39m_recv_type)\n",
                        "File \u001b[0;32m/opt/homebrew/Caskroom/miniconda/base/envs/pysdk/lib/python3.10/site-packages/grpclib/client.py:367\u001b[0m, in \u001b[0;36mStream.recv_initial_metadata\u001b[0;34m(self)\u001b[0m\n\u001b[1;32m    364\u001b[0m \u001b[39mif\u001b[39;00m \u001b[39mself\u001b[39m\u001b[39m.\u001b[39m_recv_initial_metadata_done:\n\u001b[1;32m    365\u001b[0m     \u001b[39mraise\u001b[39;00m ProtocolError(\u001b[39m'\u001b[39m\u001b[39mInitial metadata was already received\u001b[39m\u001b[39m'\u001b[39m)\n\u001b[0;32m--> 367\u001b[0m \u001b[39mwith\u001b[39;00m \u001b[39mself\u001b[39m\u001b[39m.\u001b[39m_wrapper:\n\u001b[1;32m    368\u001b[0m     headers \u001b[39m=\u001b[39m \u001b[39mawait\u001b[39;00m \u001b[39mself\u001b[39m\u001b[39m.\u001b[39m_stream\u001b[39m.\u001b[39mrecv_headers()\n\u001b[1;32m    369\u001b[0m     \u001b[39mself\u001b[39m\u001b[39m.\u001b[39m_recv_initial_metadata_done \u001b[39m=\u001b[39m \u001b[39mTrue\u001b[39;00m\n",
                        "File \u001b[0;32m/opt/homebrew/Caskroom/miniconda/base/envs/pysdk/lib/python3.10/site-packages/grpclib/utils.py:70\u001b[0m, in \u001b[0;36mWrapper.__exit__\u001b[0;34m(self, exc_type, exc_val, exc_tb)\u001b[0m\n\u001b[1;32m     68\u001b[0m \u001b[39mif\u001b[39;00m \u001b[39mself\u001b[39m\u001b[39m.\u001b[39m_error \u001b[39mis\u001b[39;00m \u001b[39mnot\u001b[39;00m \u001b[39mNone\u001b[39;00m:\n\u001b[1;32m     69\u001b[0m     \u001b[39mself\u001b[39m\u001b[39m.\u001b[39mcancel_failed \u001b[39m=\u001b[39m exc_type \u001b[39mis\u001b[39;00m \u001b[39mnot\u001b[39;00m asyncio\u001b[39m.\u001b[39mCancelledError\n\u001b[0;32m---> 70\u001b[0m     \u001b[39mraise\u001b[39;00m \u001b[39mself\u001b[39m\u001b[39m.\u001b[39m_error\n",
                        "\u001b[0;31mStreamTerminatedError\u001b[0m: Connection lost"
                    ]
                }
            ],
            "source": [
                "from viam import logging\n",
                "from viam.robot.client import RobotClient\n",
                "from viam.rpc.dial import DialOptions\n",
                "\n",
                "async def connect() -> RobotClient:\n",
                "    options = RobotClient.Options(\n",
                "        dial_options=DialOptions(insecure=True),\n",
                "        log_level=logging.FATAL\n",
                "    )\n",
                "    return await RobotClient.at_address('0.0.0.0:5000', options)\n",
                "\n",
                "robot = await connect()\n",
                "robot.resource_names"
            ]
        },
        {
            "cell_type": "markdown",
            "metadata": {},
            "source": [
                "You can also create a `RobotClient` by providing an existing connection"
            ]
        },
        {
            "cell_type": "code",
            "execution_count": 3,
            "metadata": {},
            "outputs": [],
            "source": [
                "from viam import logging\n",
                "from viam.robot.client import RobotClient\n",
                "from viam.rpc.dial import DialOptions, dial_direct\n",
                "\n",
                "async def connect_with_channel() -> RobotClient:\n",
                "    async with await dial_direct('localhost:9090', DialOptions(insecure=True)) as channel:\n",
                "        return await RobotClient.with_channel(channel, RobotClient.Options(refresh_interval=10, log_level=logging.FATAL))"
            ]
        },
        {
            "cell_type": "markdown",
            "metadata": {},
            "source": [
                "Once you have a connected `RobotClient`, you can then obtain the robot's components by their name"
            ]
        },
        {
            "cell_type": "code",
            "execution_count": 9,
            "metadata": {},
            "outputs": [
                {
                    "name": "stderr",
                    "output_type": "stream",
                    "text": [
                        "Unclosed connection: Channel('localhost', 9090, ..., path=None)\n"
                    ]
                }
            ],
            "source": [
                "from viam.components.motor import Motor\n",
                "\n",
                "async def motor_control():\n",
                "    robot = await connect()\n",
                "    motor = Motor.from_robot(robot, 'motor0')\n",
                "    await motor.go_to(rpm=100, position_revolutions=1)\n",
                "    await robot.close()"
            ]
        },
        {
            "cell_type": "markdown",
            "metadata": {},
            "source": [
                "You can also use the `RobotClient` to make service calls to the connected robot."
            ]
        },
        {
            "cell_type": "code",
            "execution_count": null,
            "metadata": {},
            "outputs": [],
            "source": [
                "from viam.services.types import ServiceType\n",
                "\n",
                "async def vision():\n",
                "    vision_service = robot.get_service(ServiceType.VISION)\n",
                "    detectors = await vision_service.get_detections('camera_1', 'detector_1')"
            ]
        },
        {
            "cell_type": "markdown",
            "metadata": {},
            "source": [
                "At the end, don't forget to close the connection"
            ]
        },
        {
            "cell_type": "code",
            "execution_count": 5,
            "metadata": {},
            "outputs": [],
            "source": [
                "async def cleanup():\n",
                "    await robot.close()"
            ]
        },
        {
            "cell_type": "markdown",
            "metadata": {},
            "source": [
                "## Create custom components\n",
                "\n",
                "While the main RDK is written in golang, you can create custom components in python and connect them to a robot as a `remote` component. This allows you to extend the functionality of a robot, or even create an entire robot exclusively in python.\n",
                "\n",
                "The steps required in creating a custom component and connecting it to a robot are\n",
                "1. Subclass a component and implement desired functions\n",
                "2. Create an `rpc.server.Server` instance and register the custom component\n",
                "3. Start the `Server` and register the running server as a remote\n",
                "\n",
                "### Subclass a component\n",
                "\n",
                "The SDK provides a wide array of components to customize. You can browse through the API Reference to see all of them, but for now we'll use an `Arm` as an example. Our custom Arm will be extremely simple -- it will only save the positions provided to it."
            ]
        },
        {
            "cell_type": "code",
            "execution_count": 1,
            "metadata": {},
            "outputs": [],
            "source": [
                "from typing import Optional\n",
                "from viam.components.arm import Arm, JointPositions, Pose, WorldState\n",
                "\n",
                "class MyCoolArm(Arm):\n",
                "\n",
                "    def __init__(self, name: str):\n",
                "        # Starting position\n",
                "        self.position = Pose(\n",
                "            x=0,\n",
                "            y=0,\n",
                "            z=0,\n",
                "            o_x=0,\n",
                "            o_y=0,\n",
                "            o_z=0,\n",
                "            theta=0,\n",
                "        )\n",
                "\n",
                "        # Starting joint positions\n",
                "        self.joint_positions = JointPositions(degrees=[0, 0, 0, 0, 0, 0])\n",
                "        self.is_stoppped = True\n",
                "        super().__init__(name)\n",
                "\n",
                "    async def get_end_position(self) -> Pose:\n",
                "        return self.position\n",
                "\n",
                "    async def move_to_position(\n",
                "        self, pose: Pose,\n",
                "        world_state: Optional[WorldState] = None\n",
                "    ):\n",
                "        self.is_stoppped = False\n",
                "        self.position = pose\n",
                "\n",
                "    async def get_joint_positions(self) -> JointPositions:\n",
                "        return self.joint_positions\n",
                "\n",
                "    async def move_to_joint_positions(self, positions: JointPositions):\n",
                "        self.is_stoppped = False\n",
                "        self.joint_positions = positions\n",
                "\n",
                "    async def stop(self):\n",
                "        self.is_stoppped = True"
            ]
        },
        {
            "cell_type": "markdown",
            "metadata": {},
            "source": [
                "You can view more component implementations in the [examples](https://github.com/viamrobotics/python-sdk/blob/main/examples/server/v1/components.py)."
            ]
        },
        {
            "cell_type": "markdown",
            "metadata": {},
            "source": [
                "### Register the custom component\n",
                "\n",
                "Now that we've created the custom component, we must register it with a server so that it will be visible to any robots connecting to it."
            ]
        },
        {
            "cell_type": "code",
            "execution_count": 12,
            "metadata": {},
            "outputs": [],
            "source": [
                "# python-server.py\n",
                "import asyncio\n",
                "from viam.rpc.server import Server\n",
                "\n",
                "async def main():\n",
                "    srv = Server([MyCoolArm('my-arm')])\n",
                "\n",
                "if __name__ == '__main__':\n",
                "    try:\n",
                "        asyncio.run(main())\n",
                "    except:\n",
                "        pass"
            ]
        },
        {
            "cell_type": "markdown",
            "metadata": {},
            "source": [
                "### Start the Server and add it as a Remote\n",
                "\n",
                "Now that we have a server that knows about our custom Arm component, we need to start the server so it can receive gRPC calls. Once it's started, we can then register this server as a remote.\n",
                "\n",
                "```python3\n",
                "# python-server.py\n",
                "\n",
                "async def main():\n",
                "  ...\n",
                "  await srv.serve()\n",
                "```\n",
                "**NB**: When you call `srv.serve()`, the default host and port is `localhost:9090`. This can be changed by passing in a `host` and/or `port` parameter to the `serve` function.\n",
                "\n",
                "To use this custom server as part of a larger robot, you’ll want to add it as a `remote` in the config for your main part.\n",
                "```json\n",
                "[\n",
                "    {\n",
                "      \"name\": \"my-cool-python-components\", // The name of the remote, can be anything\n",
                "      \"insecure\": true,                    // Whether this connection should use SSL\n",
                "      \"address\": \"localhost:9090\"          // The location of the remote robot\n",
                "    }\n",
                "  ]\n",
                "```\n",
                "\n",
                "And to ensure that the python server starts up with the rest of the robot, you can add it as a process. \n",
                "```json\n",
                "[\n",
                "  {\n",
                "    \"id\": 0,\n",
                "    \"log\": true,\n",
                "    \"name\": \"python\",\n",
                "    \"args\": [\n",
                "      \"/home/pi/python-server.py\"\n",
                "    ]\n",
                "  }\n",
                "]\n",
                "```\n",
                "\n",
                "**NB**: The `viam-server` starts as a root process, so you may need to switch users to run the python SDK server.\n",
                "```json\n",
                "[\n",
                "  {\n",
                "    \"id\": 0,\n",
                "    \"log\": true,\n",
                "    \"name\": \"sudo\",\n",
                "    \"args\": [\n",
                "      \"-u\",\n",
                "      \"pi\",\n",
                "      \"python\",\n",
                "      \"/home/pi/python-server.py\"\n",
                "    ]\n",
                "  }\n",
                "]\n",
                "```\n"
            ]
        }
    ],
    "metadata": {
        "kernelspec": {
            "display_name": "Python 3.10.4 ('pysdk')",
            "language": "python",
            "name": "python3"
        },
        "language_info": {
            "codemirror_mode": {
                "name": "ipython",
                "version": 3
            },
            "file_extension": ".py",
            "mimetype": "text/x-python",
            "name": "python",
            "nbconvert_exporter": "python",
            "pygments_lexer": "ipython3",
            "version": "3.10.4"
        },
        "vscode": {
            "interpreter": {
                "hash": "be90d0870679ea74a3098707423ded74ee9013b47deb62470047f6fb6d24d029"
            }
        }
    },
    "nbformat": 4,
    "nbformat_minor": 4
}
